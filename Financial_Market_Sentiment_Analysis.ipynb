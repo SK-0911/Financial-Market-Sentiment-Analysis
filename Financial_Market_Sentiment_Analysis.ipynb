{
  "nbformat": 4,
  "nbformat_minor": 0,
  "metadata": {
    "colab": {
      "provenance": [],
      "include_colab_link": true
    },
    "kernelspec": {
      "name": "python3",
      "display_name": "Python 3"
    },
    "language_info": {
      "name": "python"
    }
  },
  "cells": [
    {
      "cell_type": "markdown",
      "metadata": {
        "id": "view-in-github",
        "colab_type": "text"
      },
      "source": [
        "<a href=\"https://colab.research.google.com/github/SK-0911/Financial-Market-Sentiment-Analysis/blob/main/Financial_Market_Sentiment_Analysis.ipynb\" target=\"_parent\"><img src=\"https://colab.research.google.com/assets/colab-badge.svg\" alt=\"Open In Colab\"/></a>"
      ]
    },
    {
      "cell_type": "markdown",
      "source": [
        "# **Financial Market Sentiment Analysis**\n",
        "\n"
      ],
      "metadata": {
        "id": "dqZ-nhxiganh"
      }
    },
    {
      "cell_type": "markdown",
      "source": [
        "-------------"
      ],
      "metadata": {
        "id": "gScHkw6jjrLo"
      }
    },
    {
      "cell_type": "markdown",
      "source": [
        "## **Objective**"
      ],
      "metadata": {
        "id": "Xns_rCdhh-vZ"
      }
    },
    {
      "cell_type": "markdown",
      "source": [
        "To train and predict model for overall sentiment analysis"
      ],
      "metadata": {
        "id": "9sPvnFM1iI9l"
      }
    },
    {
      "cell_type": "markdown",
      "source": [
        "## **Data Source**"
      ],
      "metadata": {
        "id": "-Vbnt9CciKJP"
      }
    },
    {
      "cell_type": "markdown",
      "source": [
        "[source](https://github.com/YBI-Foundation/Dataset/blob/main/Financial%20Market%20News.csv)"
      ],
      "metadata": {
        "id": "sGcv5WqQiNyl"
      }
    },
    {
      "cell_type": "markdown",
      "source": [
        "## **Import Library**"
      ],
      "metadata": {
        "id": "r7GrZzX0iTlV"
      }
    },
    {
      "cell_type": "code",
      "source": [
        "import pandas as pd\n",
        "import numpy as np"
      ],
      "metadata": {
        "id": "UkK6NH9DiW-X"
      },
      "execution_count": null,
      "outputs": []
    },
    {
      "cell_type": "markdown",
      "source": [
        "## **Import Data**"
      ],
      "metadata": {
        "id": "9lHPQj1XiOUc"
      }
    },
    {
      "cell_type": "code",
      "source": [
        "df = pd.read_csv('https://github.com/YBI-Foundation/Dataset/raw/main/Financial%20Market%20News.csv', encoding='ISO-8859-1')"
      ],
      "metadata": {
        "id": "zcU1fdnGho6M"
      },
      "execution_count": null,
      "outputs": []
    },
    {
      "cell_type": "code",
      "source": [
        "df.info()"
      ],
      "metadata": {
        "colab": {
          "base_uri": "https://localhost:8080/"
        },
        "id": "03Ab4kELWXWC",
        "outputId": "cc03b476-8380-412c-d136-0ef9a8fe849b"
      },
      "execution_count": null,
      "outputs": [
        {
          "output_type": "stream",
          "name": "stdout",
          "text": [
            "<class 'pandas.core.frame.DataFrame'>\n",
            "RangeIndex: 4101 entries, 0 to 4100\n",
            "Data columns (total 27 columns):\n",
            " #   Column   Non-Null Count  Dtype \n",
            "---  ------   --------------  ----- \n",
            " 0   Date     4101 non-null   object\n",
            " 1   Label    4101 non-null   int64 \n",
            " 2   News 1   4101 non-null   object\n",
            " 3   News 2   4101 non-null   object\n",
            " 4   News 3   4101 non-null   object\n",
            " 5   News 4   4101 non-null   object\n",
            " 6   News 5   4101 non-null   object\n",
            " 7   News 6   4101 non-null   object\n",
            " 8   News 7   4101 non-null   object\n",
            " 9   News 8   4101 non-null   object\n",
            " 10  News 9   4101 non-null   object\n",
            " 11  News 10  4101 non-null   object\n",
            " 12  News 11  4101 non-null   object\n",
            " 13  News 12  4101 non-null   object\n",
            " 14  News 13  4101 non-null   object\n",
            " 15  News 14  4101 non-null   object\n",
            " 16  News 15  4101 non-null   object\n",
            " 17  News 16  4101 non-null   object\n",
            " 18  News 17  4101 non-null   object\n",
            " 19  News 18  4101 non-null   object\n",
            " 20  News 19  4101 non-null   object\n",
            " 21  News 20  4101 non-null   object\n",
            " 22  News 21  4101 non-null   object\n",
            " 23  News 22  4101 non-null   object\n",
            " 24  News 23  4100 non-null   object\n",
            " 25  News 24  4098 non-null   object\n",
            " 26  News 25  4098 non-null   object\n",
            "dtypes: int64(1), object(26)\n",
            "memory usage: 865.2+ KB\n"
          ]
        }
      ]
    },
    {
      "cell_type": "code",
      "source": [
        "df.head(3)"
      ],
      "metadata": {
        "colab": {
          "base_uri": "https://localhost:8080/",
          "height": 549
        },
        "id": "YTb-IqZrP2zs",
        "outputId": "07ea4522-862e-47a5-e82b-05e3e4e609f1"
      },
      "execution_count": null,
      "outputs": [
        {
          "output_type": "execute_result",
          "data": {
            "text/plain": [
              "         Date  Label                                         News 1  \\\n",
              "0  01-01-2010      0       McIlroy's men catch cold from Gudjonsson   \n",
              "1  02-01-2010      0           Warning from history points to crash   \n",
              "2  03-01-2010      0  Comment: Why Israel's peaceniks feel betrayed   \n",
              "\n",
              "                                       News 2  \\\n",
              "0                       Obituary: Brian Walsh   \n",
              "1              Investors flee to dollar haven   \n",
              "2  Court deals blow to seizure of drug assets   \n",
              "\n",
              "                                       News 3  \\\n",
              "0  Workplace blues leave employers in the red   \n",
              "1                 Banks and tobacco in favour   \n",
              "2                  An ideal target for spooks   \n",
              "\n",
              "                                        News 4  \\\n",
              "0                     Classical review: Rattle   \n",
              "1                        Review: Llama Farmers   \n",
              "2  World steps between two sides intent on war   \n",
              "\n",
              "                           News 5  \\\n",
              "0  Dance review: Merce Cunningham   \n",
              "1    War jitters lead to sell-off   \n",
              "2    What the region's papers say   \n",
              "\n",
              "                                         News 6  \\\n",
              "0  Genetic tests to be used in setting premiums   \n",
              "1                    Your not-so-secret history   \n",
              "2           Comment: Fear and rage in Palestine   \n",
              "\n",
              "                                          News 7  \\\n",
              "0                        Opera review: La Bohème   \n",
              "1                  Review: The Northern Sinfonia   \n",
              "2  Poverty and resentment fuels Palestinian fury   \n",
              "\n",
              "                                        News 8  ...  \\\n",
              "0                   Pop review: Britney Spears  ...   \n",
              "1                             Review: Hysteria  ...   \n",
              "2  Republican feud fear as dissident is killed  ...   \n",
              "\n",
              "                                News 16                              News 17  \\\n",
              "0                 Finland 0 - 0 England                   Healy a marked man   \n",
              "1  Why Wenger will stick to his Gunners  Out of luck England hit rock bottom   \n",
              "2             FTSE goes upwardly mobile             At this price?  BP Amoco   \n",
              "\n",
              "                          News 18  \\\n",
              "0  Happy birthday Harpers & Queen   \n",
              "1      Wilkinson out of his depth   \n",
              "2                         Go fish   \n",
              "\n",
              "                                             News 19  \\\n",
              "0  Win unlimited access to the Raindance film fes...   \n",
              "1                   Kinsella sparks Irish power play   \n",
              "2         Bosnian Serb blows himself up to evade law   \n",
              "\n",
              "                                             News 20  \\\n",
              "0  Labour pledges £800m to bridge north-south divide   \n",
              "1                    Brown banished as Scots rebound   \n",
              "2                       Orange float delayed to 2001   \n",
              "\n",
              "                                             News 21  \\\n",
              "0       Wales: Lib-Lab pact firm despite resignation   \n",
              "1                   Battling Wales cling to lifeline   \n",
              "2  Angry factory workers root out fear, favours a...   \n",
              "\n",
              "                              News 22  \\\n",
              "0                        Donald Dewar   \n",
              "1   Ehiogu close to sealing Boro move   \n",
              "2  Smith defied advice on dome payout   \n",
              "\n",
              "                                             News 23  \\\n",
              "0  Regenerating homes  regenerates well-being in ...   \n",
              "1                                 Man-to-man marking   \n",
              "2                        Xerox takes the axe to jobs   \n",
              "\n",
              "                        News 24  \\\n",
              "0   Win £100 worth of underwear   \n",
              "1                   Match stats   \n",
              "2  Comment: Refugees in Britain   \n",
              "\n",
              "                                             News 25  \n",
              "0                             TV guide: Random views  \n",
              "1  French referee at centre of storm is no strang...  \n",
              "2              Maverick who sparked the new intifada  \n",
              "\n",
              "[3 rows x 27 columns]"
            ],
            "text/html": [
              "\n",
              "  <div id=\"df-e8780c58-6c50-4efc-87df-e23f5a24a039\">\n",
              "    <div class=\"colab-df-container\">\n",
              "      <div>\n",
              "<style scoped>\n",
              "    .dataframe tbody tr th:only-of-type {\n",
              "        vertical-align: middle;\n",
              "    }\n",
              "\n",
              "    .dataframe tbody tr th {\n",
              "        vertical-align: top;\n",
              "    }\n",
              "\n",
              "    .dataframe thead th {\n",
              "        text-align: right;\n",
              "    }\n",
              "</style>\n",
              "<table border=\"1\" class=\"dataframe\">\n",
              "  <thead>\n",
              "    <tr style=\"text-align: right;\">\n",
              "      <th></th>\n",
              "      <th>Date</th>\n",
              "      <th>Label</th>\n",
              "      <th>News 1</th>\n",
              "      <th>News 2</th>\n",
              "      <th>News 3</th>\n",
              "      <th>News 4</th>\n",
              "      <th>News 5</th>\n",
              "      <th>News 6</th>\n",
              "      <th>News 7</th>\n",
              "      <th>News 8</th>\n",
              "      <th>...</th>\n",
              "      <th>News 16</th>\n",
              "      <th>News 17</th>\n",
              "      <th>News 18</th>\n",
              "      <th>News 19</th>\n",
              "      <th>News 20</th>\n",
              "      <th>News 21</th>\n",
              "      <th>News 22</th>\n",
              "      <th>News 23</th>\n",
              "      <th>News 24</th>\n",
              "      <th>News 25</th>\n",
              "    </tr>\n",
              "  </thead>\n",
              "  <tbody>\n",
              "    <tr>\n",
              "      <th>0</th>\n",
              "      <td>01-01-2010</td>\n",
              "      <td>0</td>\n",
              "      <td>McIlroy's men catch cold from Gudjonsson</td>\n",
              "      <td>Obituary: Brian Walsh</td>\n",
              "      <td>Workplace blues leave employers in the red</td>\n",
              "      <td>Classical review: Rattle</td>\n",
              "      <td>Dance review: Merce Cunningham</td>\n",
              "      <td>Genetic tests to be used in setting premiums</td>\n",
              "      <td>Opera review: La Bohème</td>\n",
              "      <td>Pop review: Britney Spears</td>\n",
              "      <td>...</td>\n",
              "      <td>Finland 0 - 0 England</td>\n",
              "      <td>Healy a marked man</td>\n",
              "      <td>Happy birthday Harpers &amp; Queen</td>\n",
              "      <td>Win unlimited access to the Raindance film fes...</td>\n",
              "      <td>Labour pledges £800m to bridge north-south divide</td>\n",
              "      <td>Wales: Lib-Lab pact firm despite resignation</td>\n",
              "      <td>Donald Dewar</td>\n",
              "      <td>Regenerating homes  regenerates well-being in ...</td>\n",
              "      <td>Win £100 worth of underwear</td>\n",
              "      <td>TV guide: Random views</td>\n",
              "    </tr>\n",
              "    <tr>\n",
              "      <th>1</th>\n",
              "      <td>02-01-2010</td>\n",
              "      <td>0</td>\n",
              "      <td>Warning from history points to crash</td>\n",
              "      <td>Investors flee to dollar haven</td>\n",
              "      <td>Banks and tobacco in favour</td>\n",
              "      <td>Review: Llama Farmers</td>\n",
              "      <td>War jitters lead to sell-off</td>\n",
              "      <td>Your not-so-secret history</td>\n",
              "      <td>Review: The Northern Sinfonia</td>\n",
              "      <td>Review: Hysteria</td>\n",
              "      <td>...</td>\n",
              "      <td>Why Wenger will stick to his Gunners</td>\n",
              "      <td>Out of luck England hit rock bottom</td>\n",
              "      <td>Wilkinson out of his depth</td>\n",
              "      <td>Kinsella sparks Irish power play</td>\n",
              "      <td>Brown banished as Scots rebound</td>\n",
              "      <td>Battling Wales cling to lifeline</td>\n",
              "      <td>Ehiogu close to sealing Boro move</td>\n",
              "      <td>Man-to-man marking</td>\n",
              "      <td>Match stats</td>\n",
              "      <td>French referee at centre of storm is no strang...</td>\n",
              "    </tr>\n",
              "    <tr>\n",
              "      <th>2</th>\n",
              "      <td>03-01-2010</td>\n",
              "      <td>0</td>\n",
              "      <td>Comment: Why Israel's peaceniks feel betrayed</td>\n",
              "      <td>Court deals blow to seizure of drug assets</td>\n",
              "      <td>An ideal target for spooks</td>\n",
              "      <td>World steps between two sides intent on war</td>\n",
              "      <td>What the region's papers say</td>\n",
              "      <td>Comment: Fear and rage in Palestine</td>\n",
              "      <td>Poverty and resentment fuels Palestinian fury</td>\n",
              "      <td>Republican feud fear as dissident is killed</td>\n",
              "      <td>...</td>\n",
              "      <td>FTSE goes upwardly mobile</td>\n",
              "      <td>At this price?  BP Amoco</td>\n",
              "      <td>Go fish</td>\n",
              "      <td>Bosnian Serb blows himself up to evade law</td>\n",
              "      <td>Orange float delayed to 2001</td>\n",
              "      <td>Angry factory workers root out fear, favours a...</td>\n",
              "      <td>Smith defied advice on dome payout</td>\n",
              "      <td>Xerox takes the axe to jobs</td>\n",
              "      <td>Comment: Refugees in Britain</td>\n",
              "      <td>Maverick who sparked the new intifada</td>\n",
              "    </tr>\n",
              "  </tbody>\n",
              "</table>\n",
              "<p>3 rows × 27 columns</p>\n",
              "</div>\n",
              "      <button class=\"colab-df-convert\" onclick=\"convertToInteractive('df-e8780c58-6c50-4efc-87df-e23f5a24a039')\"\n",
              "              title=\"Convert this dataframe to an interactive table.\"\n",
              "              style=\"display:none;\">\n",
              "        \n",
              "  <svg xmlns=\"http://www.w3.org/2000/svg\" height=\"24px\"viewBox=\"0 0 24 24\"\n",
              "       width=\"24px\">\n",
              "    <path d=\"M0 0h24v24H0V0z\" fill=\"none\"/>\n",
              "    <path d=\"M18.56 5.44l.94 2.06.94-2.06 2.06-.94-2.06-.94-.94-2.06-.94 2.06-2.06.94zm-11 1L8.5 8.5l.94-2.06 2.06-.94-2.06-.94L8.5 2.5l-.94 2.06-2.06.94zm10 10l.94 2.06.94-2.06 2.06-.94-2.06-.94-.94-2.06-.94 2.06-2.06.94z\"/><path d=\"M17.41 7.96l-1.37-1.37c-.4-.4-.92-.59-1.43-.59-.52 0-1.04.2-1.43.59L10.3 9.45l-7.72 7.72c-.78.78-.78 2.05 0 2.83L4 21.41c.39.39.9.59 1.41.59.51 0 1.02-.2 1.41-.59l7.78-7.78 2.81-2.81c.8-.78.8-2.07 0-2.86zM5.41 20L4 18.59l7.72-7.72 1.47 1.35L5.41 20z\"/>\n",
              "  </svg>\n",
              "      </button>\n",
              "      \n",
              "  <style>\n",
              "    .colab-df-container {\n",
              "      display:flex;\n",
              "      flex-wrap:wrap;\n",
              "      gap: 12px;\n",
              "    }\n",
              "\n",
              "    .colab-df-convert {\n",
              "      background-color: #E8F0FE;\n",
              "      border: none;\n",
              "      border-radius: 50%;\n",
              "      cursor: pointer;\n",
              "      display: none;\n",
              "      fill: #1967D2;\n",
              "      height: 32px;\n",
              "      padding: 0 0 0 0;\n",
              "      width: 32px;\n",
              "    }\n",
              "\n",
              "    .colab-df-convert:hover {\n",
              "      background-color: #E2EBFA;\n",
              "      box-shadow: 0px 1px 2px rgba(60, 64, 67, 0.3), 0px 1px 3px 1px rgba(60, 64, 67, 0.15);\n",
              "      fill: #174EA6;\n",
              "    }\n",
              "\n",
              "    [theme=dark] .colab-df-convert {\n",
              "      background-color: #3B4455;\n",
              "      fill: #D2E3FC;\n",
              "    }\n",
              "\n",
              "    [theme=dark] .colab-df-convert:hover {\n",
              "      background-color: #434B5C;\n",
              "      box-shadow: 0px 1px 3px 1px rgba(0, 0, 0, 0.15);\n",
              "      filter: drop-shadow(0px 1px 2px rgba(0, 0, 0, 0.3));\n",
              "      fill: #FFFFFF;\n",
              "    }\n",
              "  </style>\n",
              "\n",
              "      <script>\n",
              "        const buttonEl =\n",
              "          document.querySelector('#df-e8780c58-6c50-4efc-87df-e23f5a24a039 button.colab-df-convert');\n",
              "        buttonEl.style.display =\n",
              "          google.colab.kernel.accessAllowed ? 'block' : 'none';\n",
              "\n",
              "        async function convertToInteractive(key) {\n",
              "          const element = document.querySelector('#df-e8780c58-6c50-4efc-87df-e23f5a24a039');\n",
              "          const dataTable =\n",
              "            await google.colab.kernel.invokeFunction('convertToInteractive',\n",
              "                                                     [key], {});\n",
              "          if (!dataTable) return;\n",
              "\n",
              "          const docLinkHtml = 'Like what you see? Visit the ' +\n",
              "            '<a target=\"_blank\" href=https://colab.research.google.com/notebooks/data_table.ipynb>data table notebook</a>'\n",
              "            + ' to learn more about interactive tables.';\n",
              "          element.innerHTML = '';\n",
              "          dataTable['output_type'] = 'display_data';\n",
              "          await google.colab.output.renderOutput(dataTable, element);\n",
              "          const docLink = document.createElement('div');\n",
              "          docLink.innerHTML = docLinkHtml;\n",
              "          element.appendChild(docLink);\n",
              "        }\n",
              "      </script>\n",
              "    </div>\n",
              "  </div>\n",
              "  "
            ]
          },
          "metadata": {},
          "execution_count": 4
        }
      ]
    },
    {
      "cell_type": "code",
      "source": [
        "df.shape"
      ],
      "metadata": {
        "colab": {
          "base_uri": "https://localhost:8080/"
        },
        "id": "cchMP9QSZxSN",
        "outputId": "f77846be-40af-4217-c91f-2c7495239228"
      },
      "execution_count": null,
      "outputs": [
        {
          "output_type": "execute_result",
          "data": {
            "text/plain": [
              "(4101, 27)"
            ]
          },
          "metadata": {},
          "execution_count": 5
        }
      ]
    },
    {
      "cell_type": "code",
      "source": [
        "df.columns"
      ],
      "metadata": {
        "colab": {
          "base_uri": "https://localhost:8080/"
        },
        "id": "EaSBHnoCZ3JV",
        "outputId": "432feb39-eb50-412f-981e-8bd7cad95c22"
      },
      "execution_count": null,
      "outputs": [
        {
          "output_type": "execute_result",
          "data": {
            "text/plain": [
              "Index(['Date', 'Label', 'News 1', 'News 2', 'News 3', 'News 4', 'News 5',\n",
              "       'News 6', 'News 7', 'News 8', 'News 9', 'News 10', 'News 11', 'News 12',\n",
              "       'News 13', 'News 14', 'News 15', 'News 16', 'News 17', 'News 18',\n",
              "       'News 19', 'News 20', 'News 21', 'News 22', 'News 23', 'News 24',\n",
              "       'News 25'],\n",
              "      dtype='object')"
            ]
          },
          "metadata": {},
          "execution_count": 6
        }
      ]
    },
    {
      "cell_type": "markdown",
      "source": [
        "## **Describe Data**"
      ],
      "metadata": {
        "id": "7PUnimBoiX-x"
      }
    },
    {
      "cell_type": "code",
      "source": [
        "df.describe()"
      ],
      "metadata": {
        "colab": {
          "base_uri": "https://localhost:8080/",
          "height": 300
        },
        "id": "_hEN1Ah2WGPW",
        "outputId": "43cd3ead-18ae-4bcd-c97c-1879b7218dcb"
      },
      "execution_count": null,
      "outputs": [
        {
          "output_type": "execute_result",
          "data": {
            "text/plain": [
              "             Label\n",
              "count  4101.000000\n",
              "mean      0.528164\n",
              "std       0.499267\n",
              "min       0.000000\n",
              "25%       0.000000\n",
              "50%       1.000000\n",
              "75%       1.000000\n",
              "max       1.000000"
            ],
            "text/html": [
              "\n",
              "  <div id=\"df-9013ed37-64c5-4b78-9296-3faf9be967a6\">\n",
              "    <div class=\"colab-df-container\">\n",
              "      <div>\n",
              "<style scoped>\n",
              "    .dataframe tbody tr th:only-of-type {\n",
              "        vertical-align: middle;\n",
              "    }\n",
              "\n",
              "    .dataframe tbody tr th {\n",
              "        vertical-align: top;\n",
              "    }\n",
              "\n",
              "    .dataframe thead th {\n",
              "        text-align: right;\n",
              "    }\n",
              "</style>\n",
              "<table border=\"1\" class=\"dataframe\">\n",
              "  <thead>\n",
              "    <tr style=\"text-align: right;\">\n",
              "      <th></th>\n",
              "      <th>Label</th>\n",
              "    </tr>\n",
              "  </thead>\n",
              "  <tbody>\n",
              "    <tr>\n",
              "      <th>count</th>\n",
              "      <td>4101.000000</td>\n",
              "    </tr>\n",
              "    <tr>\n",
              "      <th>mean</th>\n",
              "      <td>0.528164</td>\n",
              "    </tr>\n",
              "    <tr>\n",
              "      <th>std</th>\n",
              "      <td>0.499267</td>\n",
              "    </tr>\n",
              "    <tr>\n",
              "      <th>min</th>\n",
              "      <td>0.000000</td>\n",
              "    </tr>\n",
              "    <tr>\n",
              "      <th>25%</th>\n",
              "      <td>0.000000</td>\n",
              "    </tr>\n",
              "    <tr>\n",
              "      <th>50%</th>\n",
              "      <td>1.000000</td>\n",
              "    </tr>\n",
              "    <tr>\n",
              "      <th>75%</th>\n",
              "      <td>1.000000</td>\n",
              "    </tr>\n",
              "    <tr>\n",
              "      <th>max</th>\n",
              "      <td>1.000000</td>\n",
              "    </tr>\n",
              "  </tbody>\n",
              "</table>\n",
              "</div>\n",
              "      <button class=\"colab-df-convert\" onclick=\"convertToInteractive('df-9013ed37-64c5-4b78-9296-3faf9be967a6')\"\n",
              "              title=\"Convert this dataframe to an interactive table.\"\n",
              "              style=\"display:none;\">\n",
              "        \n",
              "  <svg xmlns=\"http://www.w3.org/2000/svg\" height=\"24px\"viewBox=\"0 0 24 24\"\n",
              "       width=\"24px\">\n",
              "    <path d=\"M0 0h24v24H0V0z\" fill=\"none\"/>\n",
              "    <path d=\"M18.56 5.44l.94 2.06.94-2.06 2.06-.94-2.06-.94-.94-2.06-.94 2.06-2.06.94zm-11 1L8.5 8.5l.94-2.06 2.06-.94-2.06-.94L8.5 2.5l-.94 2.06-2.06.94zm10 10l.94 2.06.94-2.06 2.06-.94-2.06-.94-.94-2.06-.94 2.06-2.06.94z\"/><path d=\"M17.41 7.96l-1.37-1.37c-.4-.4-.92-.59-1.43-.59-.52 0-1.04.2-1.43.59L10.3 9.45l-7.72 7.72c-.78.78-.78 2.05 0 2.83L4 21.41c.39.39.9.59 1.41.59.51 0 1.02-.2 1.41-.59l7.78-7.78 2.81-2.81c.8-.78.8-2.07 0-2.86zM5.41 20L4 18.59l7.72-7.72 1.47 1.35L5.41 20z\"/>\n",
              "  </svg>\n",
              "      </button>\n",
              "      \n",
              "  <style>\n",
              "    .colab-df-container {\n",
              "      display:flex;\n",
              "      flex-wrap:wrap;\n",
              "      gap: 12px;\n",
              "    }\n",
              "\n",
              "    .colab-df-convert {\n",
              "      background-color: #E8F0FE;\n",
              "      border: none;\n",
              "      border-radius: 50%;\n",
              "      cursor: pointer;\n",
              "      display: none;\n",
              "      fill: #1967D2;\n",
              "      height: 32px;\n",
              "      padding: 0 0 0 0;\n",
              "      width: 32px;\n",
              "    }\n",
              "\n",
              "    .colab-df-convert:hover {\n",
              "      background-color: #E2EBFA;\n",
              "      box-shadow: 0px 1px 2px rgba(60, 64, 67, 0.3), 0px 1px 3px 1px rgba(60, 64, 67, 0.15);\n",
              "      fill: #174EA6;\n",
              "    }\n",
              "\n",
              "    [theme=dark] .colab-df-convert {\n",
              "      background-color: #3B4455;\n",
              "      fill: #D2E3FC;\n",
              "    }\n",
              "\n",
              "    [theme=dark] .colab-df-convert:hover {\n",
              "      background-color: #434B5C;\n",
              "      box-shadow: 0px 1px 3px 1px rgba(0, 0, 0, 0.15);\n",
              "      filter: drop-shadow(0px 1px 2px rgba(0, 0, 0, 0.3));\n",
              "      fill: #FFFFFF;\n",
              "    }\n",
              "  </style>\n",
              "\n",
              "      <script>\n",
              "        const buttonEl =\n",
              "          document.querySelector('#df-9013ed37-64c5-4b78-9296-3faf9be967a6 button.colab-df-convert');\n",
              "        buttonEl.style.display =\n",
              "          google.colab.kernel.accessAllowed ? 'block' : 'none';\n",
              "\n",
              "        async function convertToInteractive(key) {\n",
              "          const element = document.querySelector('#df-9013ed37-64c5-4b78-9296-3faf9be967a6');\n",
              "          const dataTable =\n",
              "            await google.colab.kernel.invokeFunction('convertToInteractive',\n",
              "                                                     [key], {});\n",
              "          if (!dataTable) return;\n",
              "\n",
              "          const docLinkHtml = 'Like what you see? Visit the ' +\n",
              "            '<a target=\"_blank\" href=https://colab.research.google.com/notebooks/data_table.ipynb>data table notebook</a>'\n",
              "            + ' to learn more about interactive tables.';\n",
              "          element.innerHTML = '';\n",
              "          dataTable['output_type'] = 'display_data';\n",
              "          await google.colab.output.renderOutput(dataTable, element);\n",
              "          const docLink = document.createElement('div');\n",
              "          docLink.innerHTML = docLinkHtml;\n",
              "          element.appendChild(docLink);\n",
              "        }\n",
              "      </script>\n",
              "    </div>\n",
              "  </div>\n",
              "  "
            ]
          },
          "metadata": {},
          "execution_count": 7
        }
      ]
    },
    {
      "cell_type": "markdown",
      "source": [
        "## **Get Feature Selection**"
      ],
      "metadata": {
        "id": "UqfyPOCYiiww"
      }
    },
    {
      "cell_type": "code",
      "source": [
        "' '.join(str(x) for x in df.iloc[1, 2:27])"
      ],
      "metadata": {
        "id": "3cyr3fbGin0A",
        "colab": {
          "base_uri": "https://localhost:8080/",
          "height": 124
        },
        "outputId": "91d8395e-1ca3-4ebf-bf73-5cc142d7cfef"
      },
      "execution_count": null,
      "outputs": [
        {
          "output_type": "execute_result",
          "data": {
            "text/plain": [
              "\"Warning from history points to crash Investors flee to dollar haven Banks and tobacco in favour Review: Llama Farmers War jitters lead to sell-off Your not-so-secret history Review: The Northern Sinfonia Review: Hysteria Review: The Guardsman Opera: The Marriage of Figaro Review: The Turk in Italy Deutsche spells out its plans for diversification Traders' panic sends oil prices skyward TV sport chief leaves home over romance Leader: Hi-tech twitch Why Wenger will stick to his Gunners Out of luck England hit rock bottom Wilkinson out of his depth Kinsella sparks Irish power play Brown banished as Scots rebound Battling Wales cling to lifeline Ehiogu close to sealing Boro move Man-to-man marking Match stats French referee at centre of storm is no stranger to controversy\""
            ],
            "application/vnd.google.colaboratory.intrinsic+json": {
              "type": "string"
            }
          },
          "metadata": {},
          "execution_count": 8
        }
      ]
    },
    {
      "cell_type": "code",
      "source": [
        "df.index"
      ],
      "metadata": {
        "colab": {
          "base_uri": "https://localhost:8080/"
        },
        "id": "0rVNgc9VoIGJ",
        "outputId": "5060dccc-f2dd-4018-ec23-7787e323985b"
      },
      "execution_count": null,
      "outputs": [
        {
          "output_type": "execute_result",
          "data": {
            "text/plain": [
              "RangeIndex(start=0, stop=4101, step=1)"
            ]
          },
          "metadata": {},
          "execution_count": 9
        }
      ]
    },
    {
      "cell_type": "code",
      "source": [
        "len(df.index)"
      ],
      "metadata": {
        "id": "QBCakTuli57t",
        "colab": {
          "base_uri": "https://localhost:8080/"
        },
        "outputId": "c930061d-0dc4-410e-99b1-c7ca74c13388"
      },
      "execution_count": null,
      "outputs": [
        {
          "output_type": "execute_result",
          "data": {
            "text/plain": [
              "4101"
            ]
          },
          "metadata": {},
          "execution_count": 10
        }
      ]
    },
    {
      "cell_type": "code",
      "source": [
        "news = []\n",
        "for row in range(0, len(df.index)):\n",
        "    news.append(' '.join(str(x) for x in df.iloc[row, 2:27]))"
      ],
      "metadata": {
        "id": "-NC7NFCTotrs"
      },
      "execution_count": null,
      "outputs": []
    },
    {
      "cell_type": "code",
      "source": [
        "type(news)"
      ],
      "metadata": {
        "colab": {
          "base_uri": "https://localhost:8080/"
        },
        "id": "d_lv-dmbtKA9",
        "outputId": "0eb77433-19a5-4e97-cbd6-d9428034b829"
      },
      "execution_count": null,
      "outputs": [
        {
          "output_type": "execute_result",
          "data": {
            "text/plain": [
              "list"
            ]
          },
          "metadata": {},
          "execution_count": 12
        }
      ]
    },
    {
      "cell_type": "code",
      "source": [
        "news[0]"
      ],
      "metadata": {
        "colab": {
          "base_uri": "https://localhost:8080/",
          "height": 125
        },
        "id": "nNQJij9zx6sC",
        "outputId": "d6e8df33-fe11-4368-a0b9-74113347867c"
      },
      "execution_count": null,
      "outputs": [
        {
          "output_type": "execute_result",
          "data": {
            "text/plain": [
              "\"McIlroy's men catch cold from Gudjonsson Obituary: Brian Walsh Workplace blues leave employers in the red Classical review: Rattle Dance review: Merce Cunningham Genetic tests to be used in setting premiums Opera review: La Bohème Pop review: Britney Spears Theatre review: The Circle Wales face a fraught night Under-21  round-up Smith off to blot his copybook Finns taking the mickey Praise wasted as Brown studies injury options Ireland wary of minnows Finland 0 - 0 England Healy a marked man Happy birthday Harpers & Queen Win unlimited access to the Raindance film festival Labour pledges £800m to bridge north-south divide Wales: Lib-Lab pact firm despite resignation Donald Dewar Regenerating homes  regenerates well-being in people Win £100 worth of underwear TV guide: Random views\""
            ],
            "application/vnd.google.colaboratory.intrinsic+json": {
              "type": "string"
            }
          },
          "metadata": {},
          "execution_count": 13
        }
      ]
    },
    {
      "cell_type": "code",
      "source": [
        "len(news)"
      ],
      "metadata": {
        "colab": {
          "base_uri": "https://localhost:8080/"
        },
        "id": "X3ELKF6TOt9D",
        "outputId": "04860d87-ec1c-4fc5-b1d5-30f59ac71528"
      },
      "execution_count": null,
      "outputs": [
        {
          "output_type": "execute_result",
          "data": {
            "text/plain": [
              "4101"
            ]
          },
          "metadata": {},
          "execution_count": 14
        }
      ]
    },
    {
      "cell_type": "markdown",
      "source": [
        "## **Get Feature Text Conversion to Bag of Words**"
      ],
      "metadata": {
        "id": "90_0q_Pbi658"
      }
    },
    {
      "cell_type": "code",
      "source": [
        "from sklearn.feature_extraction.text import CountVectorizer"
      ],
      "metadata": {
        "id": "u60YYaOFi-Dw"
      },
      "execution_count": null,
      "outputs": []
    },
    {
      "cell_type": "code",
      "source": [
        "cv = CountVectorizer(lowercase=True, ngram_range=(1,1))"
      ],
      "metadata": {
        "id": "GY7ILOKkOFZI"
      },
      "execution_count": null,
      "outputs": []
    },
    {
      "cell_type": "code",
      "source": [
        "X = cv.fit_transform(news)"
      ],
      "metadata": {
        "id": "mkap_LNxOUUG"
      },
      "execution_count": null,
      "outputs": []
    },
    {
      "cell_type": "code",
      "source": [
        "X.shape"
      ],
      "metadata": {
        "colab": {
          "base_uri": "https://localhost:8080/"
        },
        "id": "y22pJIPsOgIP",
        "outputId": "4f105739-6223-4e97-d058-58a8e3b77d4c"
      },
      "execution_count": null,
      "outputs": [
        {
          "output_type": "execute_result",
          "data": {
            "text/plain": [
              "(4101, 48527)"
            ]
          },
          "metadata": {},
          "execution_count": 18
        }
      ]
    },
    {
      "cell_type": "code",
      "source": [
        "y = df['Label']"
      ],
      "metadata": {
        "id": "LqIh-lciP76h"
      },
      "execution_count": null,
      "outputs": []
    },
    {
      "cell_type": "code",
      "source": [
        "y.shape"
      ],
      "metadata": {
        "colab": {
          "base_uri": "https://localhost:8080/"
        },
        "id": "bQihVB8zQD8n",
        "outputId": "e7cf60a7-e0b8-4ab2-eb4d-0f3f2ba57e0c"
      },
      "execution_count": null,
      "outputs": [
        {
          "output_type": "execute_result",
          "data": {
            "text/plain": [
              "(4101,)"
            ]
          },
          "metadata": {},
          "execution_count": 20
        }
      ]
    },
    {
      "cell_type": "markdown",
      "source": [
        "## **Get Train Test split**"
      ],
      "metadata": {
        "id": "cIhyseNria7W"
      }
    },
    {
      "cell_type": "code",
      "source": [
        "from sklearn.model_selection import train_test_split"
      ],
      "metadata": {
        "id": "Toq58wpkjCw7"
      },
      "execution_count": null,
      "outputs": []
    },
    {
      "cell_type": "code",
      "source": [
        "X_train, X_test, y_train, y_test = train_test_split(X, y, random_state=2529, test_size=0.3, stratify=y)\n",
        "# stratify parameter will maintain the distribution of the class labels in the original dataset will be preserved in both the training and testing datasets."
      ],
      "metadata": {
        "id": "f92JhBbcdvSx"
      },
      "execution_count": null,
      "outputs": []
    },
    {
      "cell_type": "code",
      "source": [
        "from sklearn.ensemble import RandomForestClassifier"
      ],
      "metadata": {
        "id": "wNczp2j3fBmq"
      },
      "execution_count": null,
      "outputs": []
    },
    {
      "cell_type": "code",
      "source": [
        "rf = RandomForestClassifier(n_estimators=200)"
      ],
      "metadata": {
        "id": "R0_Am1XZnxW1"
      },
      "execution_count": null,
      "outputs": []
    },
    {
      "cell_type": "code",
      "source": [
        "rf.fit(X_train, y_train)"
      ],
      "metadata": {
        "colab": {
          "base_uri": "https://localhost:8080/",
          "height": 75
        },
        "id": "Wt6_aM0Cn1L-",
        "outputId": "a8722536-120c-4350-c436-8bf14faef94d"
      },
      "execution_count": null,
      "outputs": [
        {
          "output_type": "execute_result",
          "data": {
            "text/plain": [
              "RandomForestClassifier(n_estimators=200)"
            ],
            "text/html": [
              "<style>#sk-container-id-1 {color: black;background-color: white;}#sk-container-id-1 pre{padding: 0;}#sk-container-id-1 div.sk-toggleable {background-color: white;}#sk-container-id-1 label.sk-toggleable__label {cursor: pointer;display: block;width: 100%;margin-bottom: 0;padding: 0.3em;box-sizing: border-box;text-align: center;}#sk-container-id-1 label.sk-toggleable__label-arrow:before {content: \"▸\";float: left;margin-right: 0.25em;color: #696969;}#sk-container-id-1 label.sk-toggleable__label-arrow:hover:before {color: black;}#sk-container-id-1 div.sk-estimator:hover label.sk-toggleable__label-arrow:before {color: black;}#sk-container-id-1 div.sk-toggleable__content {max-height: 0;max-width: 0;overflow: hidden;text-align: left;background-color: #f0f8ff;}#sk-container-id-1 div.sk-toggleable__content pre {margin: 0.2em;color: black;border-radius: 0.25em;background-color: #f0f8ff;}#sk-container-id-1 input.sk-toggleable__control:checked~div.sk-toggleable__content {max-height: 200px;max-width: 100%;overflow: auto;}#sk-container-id-1 input.sk-toggleable__control:checked~label.sk-toggleable__label-arrow:before {content: \"▾\";}#sk-container-id-1 div.sk-estimator input.sk-toggleable__control:checked~label.sk-toggleable__label {background-color: #d4ebff;}#sk-container-id-1 div.sk-label input.sk-toggleable__control:checked~label.sk-toggleable__label {background-color: #d4ebff;}#sk-container-id-1 input.sk-hidden--visually {border: 0;clip: rect(1px 1px 1px 1px);clip: rect(1px, 1px, 1px, 1px);height: 1px;margin: -1px;overflow: hidden;padding: 0;position: absolute;width: 1px;}#sk-container-id-1 div.sk-estimator {font-family: monospace;background-color: #f0f8ff;border: 1px dotted black;border-radius: 0.25em;box-sizing: border-box;margin-bottom: 0.5em;}#sk-container-id-1 div.sk-estimator:hover {background-color: #d4ebff;}#sk-container-id-1 div.sk-parallel-item::after {content: \"\";width: 100%;border-bottom: 1px solid gray;flex-grow: 1;}#sk-container-id-1 div.sk-label:hover label.sk-toggleable__label {background-color: #d4ebff;}#sk-container-id-1 div.sk-serial::before {content: \"\";position: absolute;border-left: 1px solid gray;box-sizing: border-box;top: 0;bottom: 0;left: 50%;z-index: 0;}#sk-container-id-1 div.sk-serial {display: flex;flex-direction: column;align-items: center;background-color: white;padding-right: 0.2em;padding-left: 0.2em;position: relative;}#sk-container-id-1 div.sk-item {position: relative;z-index: 1;}#sk-container-id-1 div.sk-parallel {display: flex;align-items: stretch;justify-content: center;background-color: white;position: relative;}#sk-container-id-1 div.sk-item::before, #sk-container-id-1 div.sk-parallel-item::before {content: \"\";position: absolute;border-left: 1px solid gray;box-sizing: border-box;top: 0;bottom: 0;left: 50%;z-index: -1;}#sk-container-id-1 div.sk-parallel-item {display: flex;flex-direction: column;z-index: 1;position: relative;background-color: white;}#sk-container-id-1 div.sk-parallel-item:first-child::after {align-self: flex-end;width: 50%;}#sk-container-id-1 div.sk-parallel-item:last-child::after {align-self: flex-start;width: 50%;}#sk-container-id-1 div.sk-parallel-item:only-child::after {width: 0;}#sk-container-id-1 div.sk-dashed-wrapped {border: 1px dashed gray;margin: 0 0.4em 0.5em 0.4em;box-sizing: border-box;padding-bottom: 0.4em;background-color: white;}#sk-container-id-1 div.sk-label label {font-family: monospace;font-weight: bold;display: inline-block;line-height: 1.2em;}#sk-container-id-1 div.sk-label-container {text-align: center;}#sk-container-id-1 div.sk-container {/* jupyter's `normalize.less` sets `[hidden] { display: none; }` but bootstrap.min.css set `[hidden] { display: none !important; }` so we also need the `!important` here to be able to override the default hidden behavior on the sphinx rendered scikit-learn.org. See: https://github.com/scikit-learn/scikit-learn/issues/21755 */display: inline-block !important;position: relative;}#sk-container-id-1 div.sk-text-repr-fallback {display: none;}</style><div id=\"sk-container-id-1\" class=\"sk-top-container\"><div class=\"sk-text-repr-fallback\"><pre>RandomForestClassifier(n_estimators=200)</pre><b>In a Jupyter environment, please rerun this cell to show the HTML representation or trust the notebook. <br />On GitHub, the HTML representation is unable to render, please try loading this page with nbviewer.org.</b></div><div class=\"sk-container\" hidden><div class=\"sk-item\"><div class=\"sk-estimator sk-toggleable\"><input class=\"sk-toggleable__control sk-hidden--visually\" id=\"sk-estimator-id-1\" type=\"checkbox\" checked><label for=\"sk-estimator-id-1\" class=\"sk-toggleable__label sk-toggleable__label-arrow\">RandomForestClassifier</label><div class=\"sk-toggleable__content\"><pre>RandomForestClassifier(n_estimators=200)</pre></div></div></div></div></div>"
            ]
          },
          "metadata": {},
          "execution_count": 25
        }
      ]
    },
    {
      "cell_type": "code",
      "source": [
        "y_pred = rf.predict(X_test)"
      ],
      "metadata": {
        "id": "iXDUTC7v1eUs"
      },
      "execution_count": null,
      "outputs": []
    },
    {
      "cell_type": "markdown",
      "source": [
        "## **Model Evaluation**"
      ],
      "metadata": {
        "id": "vhAwWfG0jFun"
      }
    },
    {
      "cell_type": "code",
      "source": [
        "from sklearn.metrics import classification_report, confusion_matrix, accuracy_score"
      ],
      "metadata": {
        "id": "lND3jJj_jhx4"
      },
      "execution_count": null,
      "outputs": []
    },
    {
      "cell_type": "code",
      "source": [
        "confusion_matrix(y_test, y_pred)"
      ],
      "metadata": {
        "colab": {
          "base_uri": "https://localhost:8080/"
        },
        "id": "Uc8Xe5bY2Eeo",
        "outputId": "13a327fc-a48c-4835-fff5-59b6abeddcb8"
      },
      "execution_count": null,
      "outputs": [
        {
          "output_type": "execute_result",
          "data": {
            "text/plain": [
              "array([[143, 438],\n",
              "       [168, 482]])"
            ]
          },
          "metadata": {},
          "execution_count": 28
        }
      ]
    },
    {
      "cell_type": "markdown",
      "source": [
        "![image.png](data:image/png;base64,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)"
      ],
      "metadata": {
        "id": "JBtXPIq42wbY"
      }
    },
    {
      "cell_type": "code",
      "source": [
        "print(classification_report(y_test, y_pred))"
      ],
      "metadata": {
        "colab": {
          "base_uri": "https://localhost:8080/"
        },
        "id": "JZSrzsnVJppH",
        "outputId": "0ccfa4ab-b12b-475a-8d45-4654bb1fbf42"
      },
      "execution_count": null,
      "outputs": [
        {
          "output_type": "stream",
          "name": "stdout",
          "text": [
            "              precision    recall  f1-score   support\n",
            "\n",
            "           0       0.46      0.25      0.32       581\n",
            "           1       0.52      0.74      0.61       650\n",
            "\n",
            "    accuracy                           0.51      1231\n",
            "   macro avg       0.49      0.49      0.47      1231\n",
            "weighted avg       0.49      0.51      0.48      1231\n",
            "\n"
          ]
        }
      ]
    },
    {
      "cell_type": "code",
      "source": [],
      "metadata": {
        "id": "V3OLtOHTJ6Ip"
      },
      "execution_count": null,
      "outputs": []
    },
    {
      "cell_type": "markdown",
      "source": [
        "![image.png](data:image/png;base64,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)"
      ],
      "metadata": {
        "id": "R-C1onrwJRw0"
      }
    },
    {
      "cell_type": "markdown",
      "source": [
        "![image.png](data:image/png;base64,iVBORw0KGgoAAAANSUhEUgAAAO8AAABWCAIAAACo11ZTAAAMa2lDQ1BJQ0MgUHJvZmlsZQAASImVVwdYU8kWnltSSWgBBKSE3hGpAaSE0AJIL4KNkAQSSowJQcWOLiq4dhHFiq6KKLYVEDt2ZVHsfbGgoqyLuthQeRMS0HVf+d75vrn3z5kz/yl3JvceALQ+8KTSfFQbgAJJoSwxIoQ5Kj2DSXoGEEAGFOAMDHl8uZQdHx8DoAzc/y7vbkBrKFddlFz/nP+voisQyvkAIGMgzhLI+QUQHwcAX8uXygoBICr1VpMKpUo8C2I9GQwQ4hVKnKPC25U4S4UP99skJ3IgvgwAmcbjyXIA0LwH9cwifg7k0fwMsZtEIJYAoOUMcSBfxBNArIzduaBgghJXQmwP7aUQw3gAK+s7zpy/8WcN8vN4OYNYlVe/kEPFcmk+b8r/WZr/LQX5igEftnDQRLLIRGX+sIa38iZEKzEN4i5JVmycstYQfxALVHUHAKWKFJEpKnvUhC/nwPoBA4jdBLzQaIhNIA6X5MfGqPVZ2eJwLsRwt6CTxYXcZIgNIZ4vlIclqW02yiYkqn2h9dkyDlutP8eT9ftV+nqgyEthq/nfiIRcNT+mWSxKToOYCrF1kTg1FmJNiF3leUnRapsRxSJO7ICNTJGojN8a4kShJCJExY8VZcvCE9X2ZQXygXyxjSIxN1aN9xWKkiNV9cFO8Xn98cNcsMtCCTtlgEcoHxUzkItAGBqmyh17LpSkJKl5PkgLQxJVa3GqND9ebY9bCvMjlHpLiD3lRUnqtXhqIdycKn48W1oYn6yKEy/O5UXFq+LBl4AYwAGhgAkUcGSBCSAXiFu7GrrgL9VMOOABGcgBQuCi1gysSOufkcBrEigGf0AkBPLBdSH9s0JQBPVfBrWqqwvI7p8t6l+RB55CXACiQT78rehfJRn0lgqeQI34H955cPBhvPlwKOf/vX5A+03DhpoYtUYx4JGpNWBJDCOGEiOJ4UQH3BgPxP3xGHgNhsMdZ+G+A3l8syc8JbQRHhGuE9oJt8eLS2Q/RDkStEP+cHUtsr6vBW4LOb3wEDwAskNm3AA3Bi64J/TDxoOgZy+o5ajjVlaF+QP33zL47mmo7ShuFJQyhBJMsf9xpaajptcgi7LW39dHFWvWYL05gzM/+ud8V30BvEf/aInNx/ZjZ7ET2HnsMNYAmNgxrBFrwY4o8eDuetK/uwa8JfbHkwd5xP/wx1P7VFZS7lbr1un2WTVXKJxcqDx4nAnSKTJxjqiQyYZvByGTK+G7OjPd3dw9AFC+a1R/X28T+t8hiEHLN92c3wEIONbX13fomy7qGAB7feDxP/hNZ88CQEcDgHMH+QpZkUqHKy8E+C+hBU+aETADVsAe5uMOvIE/CAZhIArEgWSQDsbBKovgPpeBSWAamA1KQTlYAlaCNWAD2Ay2g11gH2gAh8EJcAZcBJfBdXAX7p4O8BJ0g3egF0EQEkJHGIgRYo7YIE6IO8JCApEwJAZJRNKRTCQHkSAKZBoyBylHliFrkE1IDbIXOYicQM4jbcht5CHSibxBPqEYSkP1UFPUFh2GslA2Go0mo2PRHHQiWozORRehlWg1uhOtR0+gF9HraDv6Eu3BAKaBGWAWmAvGwjhYHJaBZWMybAZWhlVg1Vgd1gSf81WsHevCPuJEnIEzcRe4gyPxFJyPT8Rn4AvxNfh2vB4/hV/FH+Ld+FcCnWBCcCL4EbiEUYQcwiRCKaGCsJVwgHAanqUOwjsikWhAtCP6wLOYTswlTiUuJK4j7iYeJ7YRHxN7SCSSEcmJFECKI/FIhaRS0mrSTtIx0hVSB+kDWYNsTnYnh5MzyBJyCbmCvIN8lHyF/IzcS9Gm2FD8KHEUAWUKZTFlC6WJconSQeml6lDtqAHUZGoudTa1klpHPU29R32roaFhqeGrkaAh1pilUamxR+OcxkONjzRdmiONQxtDU9AW0bbRjtNu097S6XRbejA9g15IX0SvoZ+kP6B/0GRoumpyNQWaMzWrNOs1r2i+0qJo2WixtcZpFWtVaO3XuqTVpU3RttXmaPO0Z2hXaR/Uvqndo8PQGa4Tp1Ogs1Bnh855nee6JF1b3TBdge5c3c26J3UfMzCGFYPD4DPmMLYwTjM69Ih6dnpcvVy9cr1deq163fq6+p76qfqT9av0j+i3G2AGtgZcg3yDxQb7DG4YfBpiOoQ9RDhkwZC6IVeGvDccahhsKDQsM9xteN3wkxHTKMwoz2ipUYPRfWPc2NE4wXiS8Xrj08ZdQ/WG+g/lDy0bum/oHRPUxNEk0WSqyWaTFpMeUzPTCFOp6WrTk6ZdZgZmwWa5ZivMjpp1mjPMA83F5ivMj5m/YOoz2cx8ZiXzFLPbwsQi0kJhscmi1aLX0s4yxbLEcrflfSuqFcsq22qFVbNVt7W59Ujrada11ndsKDYsG5HNKpuzNu9t7WzTbOfZNtg+tzO049oV29Xa3bOn2wfZT7Svtr/mQHRgOeQ5rHO47Ig6ejmKHKscLzmhTt5OYqd1Tm3OBGdfZ4lztfNNF5oL26XIpdbloauBa4xriWuD66th1sMyhi0ddnbYVzcvt3y3LW53h+sOjxpeMrxp+Bt3R3e+e5X7NQ+6R7jHTI9Gj9eeTp5Cz/Wet7wYXiO95nk1e33x9vGWedd5d/pY+2T6rPW5ydJjxbMWss75EnxDfGf6Hvb96OftV+i3z+9Pfxf/PP8d/s9H2I0Qjtgy4nGAZQAvYFNAeyAzMDNwY2B7kEUQL6g66FGwVbAgeGvwM7YDO5e9k/0qxC1EFnIg5D3HjzOdczwUC40ILQttDdMNSwlbE/Yg3DI8J7w2vDvCK2JqxPFIQmR05NLIm1xTLp9bw+2O8omaHnUqmhadFL0m+lGMY4wspmkkOjJq5PKR92JtYiWxDXEgjhu3PO5+vF38xPhDCcSE+ISqhKeJwxOnJZ5NYiSNT9qR9C45JHlx8t0U+xRFSnOqVuqY1JrU92mhacvS2kcNGzV91MV043RxemMGKSM1Y2tGz+iw0StHd4zxGlM65sZYu7GTx54fZzwuf9yR8VrjeeP3ZxIy0zJ3ZH7mxfGqeT1Z3Ky1Wd18Dn8V/6UgWLBC0CkMEC4TPssOyF6W/TwnIGd5TqcoSFQh6hJzxGvEr3Mjczfkvs+Ly9uW15eflr+7gFyQWXBQoivJk5yaYDZh8oQ2qZO0VNo+0W/iyondsmjZVjkiHytvLNSDH/UtCnvFT4qHRYFFVUUfJqVO2j9ZZ7JkcssUxykLpjwrDi/+ZSo+lT+1eZrFtNnTHk5nT980A5mRNaN5ptXMuTM7ZkXM2j6bOjtv9m8lbiXLSv6akzanaa7p3FlzH/8U8VNtqWaprPTmPP95G+bj88XzWxd4LFi94GuZoOxCuVt5RfnnhfyFF34e/nPlz32Lshe1LvZevH4JcYlkyY2lQUu3L9NZVrzs8fKRy+tXMFeUrfhr5fiV5ys8Kzasoq5SrGqvjKlsXG29esnqz2tEa65XhVTtXmuydsHa9+sE666sD15ft8F0Q/mGTxvFG29tithUX21bXbGZuLlo89MtqVvO/sL6pWar8dbyrV+2Sba1b0/cfqrGp6Zmh8mOxbVoraK2c+eYnZd3he5qrHOp27TbYHf5HrBHsefF3sy9N/ZF72vez9pf96vNr2sPMA6U1SP1U+q7G0QN7Y3pjW0How42N/k3HTjkemjbYYvDVUf0jyw+Sj0692jfseJjPcelx7tO5Jx43Dy++e7JUSevnUo41Xo6+vS5M+FnTp5lnz12LuDc4fN+5w9eYF1ouOh9sb7Fq+XAb16/HWj1bq2/5HOp8bLv5aa2EW1HrwRdOXE19OqZa9xrF6/HXm+7kXLj1s0xN9tvCW49v51/+/Wdoju9d2fdI9wru699v+KByYPq3x1+393u3X7kYejDlkdJj+4+5j9++UT+5HPH3Kf0pxXPzJ/VPHd/frgzvPPyi9EvOl5KX/Z2lf6h88faV/avfv0z+M+W7lHdHa9lr/veLHxr9HbbX55/NffE9zx4V/Cu933ZB6MP2z+yPp79lPbpWe+kz6TPlV8cvjR9jf56r6+gr0/Kk/H6PwUwONDsbADebAOAng4AA/Zt1NGqXrBfEFX/2o/Af8KqfrFfvAGog9/vCV3w6+YmAHu2wPYL8mvBXjWeDkCyL0A9PAaHWuTZHu4qLhrsUwgP+vrewp6NtByAL0v6+nqr+/q+bIbBwt7xuETVgyqFCHuGjWFfsgqywL8RVX/6XY4/3oEyAk/w4/1fQJGQvUDzlx0AAAA4ZVhJZk1NACoAAAAIAAGHaQAEAAAAAQAAABoAAAAAAAKgAgAEAAAAAQAAAO+gAwAEAAAAAQAAAFYAAAAA2JTIbwAAH/xJREFUeAHt3WmwZtPVB/CgBUHEFCIh3U2MGQwhBBExz3OlQgYqqoIqEVGllFQolA98ofigKKVaxTwnxhRtHgsRlETMcxJzDEFM7+/2Xy/H89x7+97u+zx93+6zP+xeZ+2111p77f9eZ5/9nHN7nv/973/zzz//5z73uQ8//HC++eZ76623FllkEZdtaSMwfiLwwQcffPTRR5///OfjEnreeeftdm9eUH733Xc1vP/+++qFF15YDdPdoi2njUD/I/DOO+8wOs888wS+ku9//vOfQaE8ICYlp+29995bYIEFXFoHiP773VpsIzBoBN5+++0JEyaMBJMTPv74Y/AFYtIBNPhTij+o6pbZRqCfEZCVIROaJemFFlooEE3d7cY8UAu+diRvvPHGyiuvvPrqq9s9K92iLaeNQP8jAJxf+MIXbIYfeeSRhx56aNFFFx3GhwnastP44he/+L3vfe+ss86yAl577TUqhunWNrUR6E8EpOQlllji1VdfPeyww0A5G2MJe1DrE6B+wQUXlKH/+9//EtJBGl966aUHlW6ZbQT6HAHHEnbCYOm4AjKhWZ7NrqPbkwmgDMckdLPBIJdthkOQbumW00agzxGAQ5tmOTePdrFeR3Udzgw8BWZTgcgxXkSHOgTp6N9ethHoaQSCw2wfQNT2AUqHeq4b5Ai6p861ytsI9C4CLZp7F9tWc78j0KK53xFv7fUuAi2aexfbVnO/I9Ciud8Rb+31LgItmnsX21ZzvyPQornfEW/t9S4Cw6HZ8Z7StO0yv6r4keWll17yEinOm2++ScYPNlUjqmPk1U6/oyqc0HkZFZ1WCumJlWggnFdVWWTohRdeQKSvLqWqqVzHl19+mWZEvCKfV6kQ0VYaYiWXkaHTz0nhVGsZwi9VlLNbMpqinED80asciMJe14LDtOK9M6Z5gvP666+LBt8QHPBCjh/V4omREtDkHWBdMha1vpyvkdY09dr/WdQ/8J7GyItxAsrjjz/+3HPPGaEfaZxj+xl8lVVWWW655ejBUWeavfokQHlh2hm4vpldB+Au8wMkGXrwHY/r6NdLNAElofRTTvrSee655zK32WabTZw4UaviwwLyBHKczgTa+6933nknJ3fcccdJkyZldLGulQkdaWN60EN4MvVzEljoaFD8Qau11g9RLqMhIKZZYa4ECLusjvGkRzU/+eMdG/qff/75e+65B2rRnI//BKQDHvJ5/fXXN2um0qs83snJfHkd4stf/vJKK6205JJL6qKvgeiFyLgQ47yMAs0ZGIBefPHFN910EzRAUl7qWGaZZX7yk5+ss846YkRsWgAHNAtueqkLCmgTHMRgBsc4koTwiTW06VuYEGtdHnvsseOPPx6OAfRL0woB1rmREOsVzQ8//PCll14Kzd/61rdMD6gBfcQCfR2V9KKcD4wizJma88T44zI0AcKgyUT0aNWFmFoTSXQUcolyl1EYQKepp7Wx06+WHf7yl7+cffbZTz75JOsJrNxhangrGt55gOC9996b2JQpU55++mlTQFLeMbpNN910q622+va3vx1vjT0x6anzY6V8xmgWoExngvWvf/3r3nvvVe+6666TJ09+8cUX4eaWW27597///bvf/W7xxRcHyrzrlAnWHSaak5oAqUVW+IIMgRbTGNKx5JP2aFh++eV/9rOf0f/Vr36V/ow/gVbTE4CSh/gf/OAHq6666gorrJA7QwULHINCXTAtNpoRfAjBriZ1YEobpCYCfIsMefzooZBd3bVyGz9wT2uNohzoHRFb3JAmLPjvf//7IiCkZkrqMQS5xnxx1YjWWmstd7BHH330H//4h5vqlltuifnEE0/cf//9p556qiYR/vrXvx7hGnXvnB8rzTNGc1kSESVQE5c99thjo402kqr/9re/eY9UMrj22mtXXHHFr3zlK8Tc5iBPX/OdPQk6sDPTmEImW0S5BQBYBWWAoMFtETjc/sjQYJIOP/xwvQI1yUbrYostxgG2RB9waaDZjWKLLbYwBzjRTFLKdGl2CVPOXNBvwjJn9OAzbV4pyTux+USSgFFzW4nDZBABbkBMcziEiSVKEUYbeMyF04ua8wkg5d/85jetZBEQq7vvvhtqjXf77bf/7ne/y/Mg3juWiYNdx7777usmJknfddddv//972+88UbQh2YCcTWD6oXbY6tzBmiuGCFSTJWZS27z6CA67kpuT1deeeXNN9+89dZbW+uWOIhvuOGGECk0wicZbLDBBmY0qf2BBx4QTUlU3PHFGjpFnwDkyfQPPvggBNtQ2C2svfbaoExejoEMeVcIcAi4S5gAyOOShLTNNtuALCzaDpoARq0oXThJee4hMpAhmKp1113X2sM3LjLuy//85z+/9rWv8cG2m/8m2HL9xje+4c1vFilM6AnTwLqOAA0xCqOsCIvayqGWjLFoQvQayhwLlIWRA4rljePS2uY5x4RCiSeGIOaCZgicNE2axER2MI/ib/iCaXQ6ZiwZ+zivZ4DmeG/MNQzZ0WyZJOEw2qxal6bctImg5Hfrrbf+4Q9/mDp1qjm+5ppr5Nd99tlHtvB0Iovfcccd8CdwIkXJgQceaNNCle6vvPLKGWecYV8OW8nKJmOvvfb68Y9/zO4RRxwB31aLh04aWDnttNOgkyp9yUv21sYzzzxz0UUXeQw69thjLTPOe9zhzHnnncf0sssuaxEaApj+/Oc/33PPPZmm3FL84x//SIn5dv/VBROgjznmmM033zyAThBMvy6gYHk42CFv1JhCoRiRcfmKBz54ha+u6PWaSBhZCbiZNlI1x3giFGYkDgsCDqQamhQA3/Ety88lSWMkoG8/hzArIRoRmhkQiBQPvAYsFkZrqGbOrDvikNjWW289u1t8kkAGEIR9MuBSkhMUcPnTn/608cYbH3LIIfrefvvtJ554oi0KMYgRwfPPP/+kk06ixP3Oze6222677777BJ1Os0KD/YBjJolZdveox/RRRx0leUv5119/PT61JhLIpCW99HX597///ZRTToFyK4eT/LcpOueccywG+yK7RprlMzcEtbvBTjvtJK9zVbEG+COR0wapFWtPpaeffroRcYxdzhumWSdmZ/+rX/3KTowh/ujCDZqrby+IJFEWo5wbUMt6Nmn4xgjrPIlk1qesTDJgtSuTbmxLrEOpp1QZ2pyA5qzvqs0WWiwMT8g8/+WG7sZkUuU8U77UUksRICZqMHrooYduu+22lrik6/YNvrYl8Ce/0ibvenaUR8HII4teErmgw3o2vpAHplYOGOGbHnbdQ5NXwNpeBexs4nXfZJNNaDB5hFkkbPKg3yXcu3X++te/3m+//WR3HnLDPeTMM8/kkq2LidTX1Lq9/uY3v1ljjTVooNaaNLtysAVDT3BALeeNjhJe6RjQYCIMHJol/oQLDvgg+fUCwU2dWTacCdPw4wAieIVOvqkDTUwLzFgc4UtGJs7+8IYbbrB5cyNdc801RcDoaOv1OmyOYhbpkebmMgPKhvfUU0/ZD5ikJGbAcuAAzUIAakJmsn1lKCWjhVhMQVbUwMIJmjTpAUsvu2GoElCpFC2nSoSrrbZaMgcc0AMcrFNiAtRCrK89gCY6IVVylUvMB8dkSpijmUKmeWvTwqLFJulKouYS35Lw9GMItiuM0kaSBjsEK4R+MphgzTdNkFERQLiUwLbbbjurziUBalnnm8JPrdyAHmugD1Bu+tZBczWlg883fMv4r3/9q3sUn2UWudm+zvL2/GB5VEdErZMOPePqcmbQbGDgAprm2+J2GORhGXaFwNhMrQSJgDDZV5gEjpjAAboHZztjl0Bs4k05DAW7siCddrowp5cFEBxEoRrCMPVCg4vNCU+cmNrmWgA/+tGPbE4KrCTJM8Q6o3RaFbDlEuyI5WcCUOaY2jIgbIXYhevIMRpso2POdBpRc0bJG6Y1Q5JMdHKbY5pAIa5msjOc0H2ug8jCZVkXEB7iuyNZsfy3jE2i9Tlp0iRxIKk1QzbA5P7qPj6JUaMZGky2s4hf/OIXaoOEOTdlTCPUCijBH47JFjXxMvFmXchACuYkP1ncrAso9OgO9+jAWmszWDpSIqwKGTUreu28884mwO3e9toK8YT329/+1mLQqjsfAjVIsnJoMDfcyA1U1ndXIckWnZkqc0aYucw92vKjR8Ghk+k45lImu+yyy+yyKLEM9FXS0Zr56U9/6kQsoYjbzRH1k47n5XaZNimWseXqbrnbbrvZgEkrirEIETGjNiJThs7kVt9xS4wazeYeFAxePnYjNjDTn9xj2sROLEREFJREwSUYmWNNjiNsXinRxaWYWgwkCQCc8Em0UEh/zj1oyHyQgRu9WAE+QKE2mxmbvEsuucTR0hVXXAHcJkkvAjrqRUymcUmtvpSg7TQ8pPLcDsS0uSSGn5nTnYcWGw1K9+TRQ0YcOIlQOMZ5jqVJ7RKf8iyVbiX94fAkhTlEGRWZ+OwZxhYRrNPE4SJK3kCq43gmRo1ms26aFUCU82DRbGXCTDxCjKDE+NVCljmWSiVyePUsaEcBf4ThW02eEugBdHd/J2uOkHfZZRe3bIFzdACFkjc9Ca5wS5kcQAA9dNpyMOcMzkrgEh9c8lOTBeO+6W4A6A49YB2HVx4u//znPxuCEz0TSVJhTt9gmvIoUdekFrJxbKs8LTn9oI1MuUdGXw7TY2jGRS1v+TNbcBD/Oaw0HbCAcSxIm0bxdI8ykGlSn4hlTptdxj89ajSbNtA0YWCRjQEcGHkCoZZlcQRRpIgF0PgSOeh4anaS4DYtKZK0o5XeHEf4IUMGhUs/kZxwwgn6AhncQ7+bgBs3u0mfVAGH50iSNu6eGplzlGbxMAHf+oIpJjCRtFScVDhOvuqqqywnN1Z8anHstlm0bKRz+nmrhKANbf4KDc255IM1pqNRNPlNmgYlaCbfbOonbVEpRlEDsd74I+zcExwRg2x+Zh0S63YvXbr5440zajRDCRyLhTWdwUBMIGvMyYuSboCe9R0+vDr3ADXHeZdffvnEiRPr4cxpAyCKrFMCWfPkk08+8sgjGQJfYPUbFW3yh0ADIp2WE6MOjO190WbFw7jHF1t5E0PSDJke91COWTMyPfRfeOGFxx13nA06AUh1/OfMzk0WlBU+m3V83jKkOwcgG61kpJpq/iwMdgnoRZIMIq1JyS75rwuZYLr69pMA3GYp0/zPkI1CMDMQkgQEQeF/Lpujru7jkxh4V6ac9pucHwuGvyeCoAMvELFzAFCjCsISBVCDDAdndgjONPy4TblwxIR85gTXDyKSLiDCKLD6y3f2GHlnAyx0tGHw44g9g0dGexIZVA7264yzJItBqnYfd5wnvxIGU8vA2rCdsCoYgmwnxLbFPLR1gTNqrT06mXZbMIu2H5K08zg0z82oHQ5VfGZRBOgBehafffZZanloYdQUClpBvJjDE0zQWYiPcDA0fMcRtnIpkqwo1UvcTIe4GYVo4GexiYloGLI1r0kW0ITZHGYpGYoI0JvmhpfUShgMrCU0cwIykkiK3v777+8kUfdhgj9qNHNCaGjM+F0WWBGmB6ARPOaoLE4ggS6neWYxcIsYGeFLCscXaONUE9AEprpXoVOXMAVCRoktqgijEYQ1KdQqLqnVC80NarlkveEgdNGa6KDdcCjPPTeqyBusHQXniQUHNZBybIQEoySFSOHP8HoStNIcf+qyiEH5DOkec8ZlFALSPV/GrmTpGhp/CHfYHcrQoHZjlF0lwa/u3QTTzOEX0S1THDIjQfOodxpmokAGTwbAJ2DCN0LFSNSRISBYwoSZMGki33EGlyZ8xQDgCUGhELvUXS9EFjTC2FjsUIIfed0TSmpjTlNKNJT/mByjSkHbn8SQuWdd2oZ4JX25QbPaJc0h0jSSOvHRa9ooB4ZJCeZQsz5a/Ylh/Kdc99BilVEYqelQc4BR8uUJeRHQlI7qkZemXRbL7Sa/qc0dL+tKTgkhSQlsxbkpPFp6ZtCcuc+SCh3XRSfmRQ1fETXIQCS4xMwfGcPGx9TkshlHApGvuEQnpOqlRACBLxDElHTJJNHMUPZLhOMVl8iLmlxLGBHTqTXpFTco0YqTNROfmcNnCH/mSgwxEc8poZnODm3xQd205VKJZAcfM03UluamzsiTYa6JGJcGKD4EKhqZ02b3KFc37Uag7LrsNt0tn151izBBmUqc7u5NH0ZOjxrNmWmxMD1NJzIx+AYZJGWQGRV+LgvxBaPyVSjTnYYSM+AwY5ewJgIK65WtSwm1CmjiMK2QRJdLHRmdEoVA/GdOiXV6NKkpiW/Rhokoi6MisobpR1ifCNuAaaMZqDLSxCqrq5pCsMUTdQffJbfDRNCQguNGJAtazHxmDp9dSiDbJWGt8cpIyWfZRxVhRMzlvhd+s44MTlkMp+lnOYxgzqxtttlmHofic+KvadbLqNHMJHd5oCDitLjgGzBO5Rs0Zk18LnESC+jEUQhEhhJN1JLJlKAxRRknwjgBGQG0jvh6EVBcpjsf5GBbheJoJZZQlvKomtb1kwcgHAoJZFxZA3RmUDTE4VhJxxHWFBpL1qQDRL9ceor1pJvuNEd5iKK1hhNCHVQVX2voJnpKiSZ8XXAMQQ2soZnGER9QVjANSik9ZSKEgXdwdMERq+KH08GvVkSKY00P/V4Uy8xiciaHYNNFZvLfUaM50xlrYiEiQuASv9Kny4qO8AWRhDt8xFEy+GoSTQqNs4aqKSGL2kimlXIONCW5EYW1OaYQJ37KCgQGVE8/TYtOMkzwk2kuYaozLiaMK3Qco4084XgyE7XzHOcMfrx0/FK3l444RH/ZDcFWdgvFxwlt4SHittEVHQFDiMKEy6VHW6EgpmP6ulQyidHZrLNDaHJCpy+a6VhPjV++NQluEPjOd76TMPJH65hAmZ5RT4kB80bPgh260Ia20EWzZDIqfCViQZLuZJQExdgUMgk6miGXWhViONWRHlHAjPIIRwxTLxwyapdRiJkSATT9EdCRNgUTR9GUXjFEIPJq3WMIPaoShdIkwsmjL0mdBgY69NDZLDjxU52iFaHmWySntwwwU7r14DNBMoMSQNZpMEdCh9AUxzIdhElGW4d+ocDHTB0CHX9iuhxARL5UhVBrYj0Ho+hc4seNcGa6HjWay2oRbAdncSKwCN2U6RDraMpo00vtsqkznLTq2N23W7iDU5qLMB9FFxE3qqmppJiEm3T1HQlR8HUWrugi96uzLEEKmBgNFEB/2iobOH+AAGJaM3wCmJHEjNqowqSHsL4ZDoEUTAWz6mmMz1QkKY9CDoSwQ4M/+ilHy9NM8CQnnqIR/QjK0VqbeP2MgekJCzNhbAKmQ3K0l6NG82gNtPLDRwCOTX+2tiRNbTCBtgkBLBgioySVqjVBFdxEkgys44MXvtZa7ZpcKqUzl2pGi24SJJXiEGMINBF8wM9jdNyw7YkAGT4o/OfDGAK0PBkJ0aJ5JFHqoQzAgULl7LIk7cEQZIAIJvQ4joQk8kGbGlNd2E1fTEUvfakN2kptEYwW3UHogtPtFbXMlUKXcT4OQHCBuJJ6h+ZeX366CnttqdU/aATclIPOtLoEREjKnRodrJAJ4nMJUpXO0YCl1lciD77rRj8oagkP6kyYupQAzdTiRw86l5xhCHzjPDH+lEvdi3MYc2PY1ObmMQzmzKjK7TtYBA7ZztkiiOD7IgZKPO/LsghM6RmaZWio9Ts8GZcwpMleVneXVAV5IJV9LbcwFYSmlKF8jSSFPHFwxhC1ChDHhzqwt4H2wx55RnmoC4uUD6W5D/wWzX0I8nAmoAECAAUgyHmPyvfkPh9OH+eMIAs0CgKSvCro7T/fPjng80YRzCkQP2nSJO9LeYEbqqCQZFBIT+EYPUO0EaaB5DPPPMMT/sBxfuLBdE7sHVovHlLuL6V4KRfcs6vxcmIebR0nl2ld+llaNPcz2oPYCppBGShlu2effdbbfP5CHA74gpS3/5zlSb0EvPPtG3UA8heM/KkGqPW6LH5Sqd8j9t57b3+gx1lyLFFinTSTsUuFUYAbxJvp5wyafOV+1lln+eMNeb2RPENeuPM6oZ/xCPj1x0u5FhLrEA/T3lD31qQv3HwqOqjyXjNbNPc6wjPQHyzaLQCZzS40eP0VXt2+n3rqKR8ueAX3gAMOkJL95uJWDtbglQ9G/HWHgw8+mAEyPq7x+6IXekFfjoRXUM5SqXzsEuaSTfMda7dzZLKpsKvhkvdsfSphneAnQ/vhA4L5ZquD4x1x9wofFErVZ0/7622WnBtFPnnu1t9TTovmnoZ3xsqTI+uxCVi9eJ1uXv72Ri8BHHiKZDKrHQjMQRW+TYVkCcQgPnXqVB/4eG8blBU4hkLaIFh3SRThUwk7GV9OeN2ZNnpYR1hXlpAuJF3qZXvjhx5/qkFtpcU0tZpcpqM/r+PrTLcRawyCjz76aPq9huFymgsDPpCPG4haWugxL+2ZxpiHtLcKwUJ+VQMQ8IEUe8DtdVbohGzbDzACXMlVygdfMpEER4jPR2U+d8htITgjn9VCGAfmdHGcXNjNeUUuWSRDG2Z+mddLSra07J49xfqAqKeoHSrEbW4eKjLjlA9PgKLAIjxBIWBBFSzadkNVQAbf9QZIRhLs4hNG27eQDO5rqNQCsUsLRqGcMHTioNVspZBkMb+eMKpVLZeTt6JgmjAZdbN0c5qts063aJ71GPZVQ4ALPcEi6IAI5Hlce+ihh+xffZkGWFKy5K2GTvgjj9YF4oNLWKRKEz4OQqs6p2wBKA0A6sM2I9TKio2QI4t8jENGodDaoM0narbOHlt9X+eSTo4p+lLbnxi1aO5PnMfMSpAHJbBl++sPl3kU84rp1VdfbRfxwx/+0HNbPqpnEs4gkoC/LvfEE09E0rEJjNpv+HqSjN25ja8ucTHIY0WRlZlwcBHoM+pj5B122MEJnVZQth584nndddcR8A3l9ddf7xHWf9AxefLkASA3cjO1zcsxC8dnFbVo/mw8xv1VdsDAAUyS8ZQpU/x5S3d84PbFu1MO6dkgoE2dNz0IwJk/y2R3YWvx5JNPQv8FF1wg0dLjqdH5BphCJPTneRTyNAErPTj4tihMNBGpiTbLiXLOWCFuFLDODc+IJJvC/Ylri+b+xHnMrLjjgw51EOwMwelYNgD+Kqmv2XG0koE/WARBgLMx8BdL7GVJ2lf4g2MA7a8y5H9BcGItldJGJ2EgVgARDe6OR/yZYE94CrxCdg4rsi1R29gw7RmUAGGHg05abD+6odzNGbOgTFfUonl6JP6f/Fvpk7/OEH75y19CEibkOcQARMnbpUSrZEwypT/WCnZ2HWTssG0h4NuGAQf6pXB1EKxOwXE8AvF+MbEbgeOgPMspbmD6c3v+IDfrUrXaErKfYbEZTh2bl72jWzT3LrazpDnwykNbPbrBCoxCEsQgJNR8Zw5GjNUhhrTatA3fNNhOpKMaIjFhkQaqAFGpdKs764AOhToS00Uhg6PmRrbjLglDvAUg8WtyyTGq0OVDky5mL4hPTfZCe6tzpiMAEDIctMEH6NADLoCFAERMSFIgmBhiKEOQp4mGyrjBsT1uQIafvpSgaXbJlksy9irpWHytQS1nAlxApzNORmff4BvPq25zc4VifBHwIS96XLMrSKqTL+Mi9ECbS9sGMtBMIGjrHkOTrwuAeuxziOZhMU0l0FwSEGyHbSWwbr9hs0FzYV0XpiV1rfzkTFYLmXgSh7ud6TWnRXOvIzyT+pP/vBPnV+VsJCTC6AI78PIX8P2gDTcuh8mFASsZUAZHqrzygQnWaeroGyDCKLjnP/VyfyiZdKGHgIc/C8PDZZjBMQ/ZUmZy2LPWrUXzrMWvZ70BAp4OOuggKXDixImwWGiGJC+p2Qc7wcjBWTV1u6Mj+QAurY6Es2NxyUqQioBRHJdo8t4uchgC9E48okRrFg/Cycbuu+/u7VCLLfv1dI8nTXOE+1ZaNPct1KMzFHDkS1hgSmdEgAKRSph5NBxKe/SkNU9y8JoEjNlsjWZNmGQGzuSm/4lyTfqq8aNEX7lZTT7KS2cuZ0vdonm2hH1ERsEUfOVRyVJ+1ScZNLiBKrArbA2lEQT1ShcE+agqbYgCIkKJQB4EI2ZbjB+4p+YYDnCXNs7EPU34ylAu9Y7forl3sZ0lzbCSQ4OkzyAy9/EAJWDCCXMYY5GkB/LoIQmpoUt5upMMOhEksyHJqUhAbDHgk3EZyTjmUikfZguUWW/RXFMwvogAImjjGaLoODpDENd4mjiLkvQthSUQgOrIeu2tQ8Sfkqy+iGLGYikpB/pGzIbbQd/G1hqa2yLQonlum/E5ebwtmufk2Z3bxtaieW6b8Tl5vC2a5+TZndvG1qJ5bpvxOXm8LZrn5Nmd28Y28KN8xuzg0JlijhXntii04x3nEcjxdh1yD+XtJ//HXprzuw66ID5Ut5bfRqCfERghIAf5LVBPpU3S/Zyt1tZQEfAbu6ZgMjLDZOjPoJlclaG0t/w2Av2MQLIqNENm7DbpDk8+/XO/GnSolJw10SHdXrYR6HMEAsgk2Rma/kxububzgvUMVbQCbQTGSQQ+fQoEZfm43pfteDFqnLjbujG3RQAgDVmtDLPHSFg60exVa1ldN8TcFrh2vOMwAkGwPKuErg10t7cD/2uGF1h9guvrLn/i6ZRTTslfMdOzW7rltBHocwTg0DbB3xzz32KgA9TAutuTgT/qUa9X+6DSB7rdQi2njcDsikATuPYLwapdx6A74YE/Z00if7QhX7rXn2iYXQNo7bYRqAg4jfBHRYJMf9nDF4o2Ef7WRz4UL7EQn/xPAjK0r2v8yVR/CSp0h1x72UZgdkXAlgGI/U1HmK70PKgzA28dvfzyy0ng8C6xg7XdyaDSLbONQJ8j4Lkuu1+AZhpQ7aGhdFA3BnKz4jkxqPfkKLfbbLQb6EHj1TL7HAFb5KRadmu7HMR2e/J/pmqu6DcEy/QAAAAASUVORK5CYII=)"
      ],
      "metadata": {
        "id": "bdPnUDFsJU3j"
      }
    },
    {
      "cell_type": "markdown",
      "source": [
        "![image.png](data:image/png;base64,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)"
      ],
      "metadata": {
        "id": "5yPYz8QKJhyT"
      }
    },
    {
      "cell_type": "markdown",
      "source": [
        "![image.png](data:image/png;base64,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)"
      ],
      "metadata": {
        "id": "vqj73HGIJlod"
      }
    },
    {
      "cell_type": "markdown",
      "source": [
        "## **Prediction**"
      ],
      "metadata": {
        "id": "8AzwG7oLjiQI"
      }
    },
    {
      "cell_type": "code",
      "source": [],
      "metadata": {
        "id": "JLebGzDJjknA"
      },
      "execution_count": null,
      "outputs": []
    },
    {
      "cell_type": "markdown",
      "source": [
        "## **Explaination**"
      ],
      "metadata": {
        "id": "SBo38CJZjlEX"
      }
    },
    {
      "cell_type": "markdown",
      "source": [],
      "metadata": {
        "id": "Ybi8FR9Kjv00"
      }
    }
  ]
}